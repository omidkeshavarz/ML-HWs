{
 "cells": [
  {
   "cell_type": "markdown",
   "id": "5f42a3ce",
   "metadata": {},
   "source": [
    "<h1 align=\"center\">Introduction to Machine Learning - 25737-2</h1>\n",
    "<h4 align=\"center\">Dr. R. Amiri</h4>\n",
    "<h4 align=\"center\">Sharif University of Technology, Spring 2024</h4>\n",
    "\n",
    "\n",
    "**<font color='red'>Plagiarism is strongly prohibited!</font>**\n",
    "\n",
    "\n",
    "**Student Name**:Omid Keshavarz\n",
    "\n",
    "**Student ID**:99102361\n",
    "\n",
    "\n",
    "\n"
   ]
  },
  {
   "cell_type": "markdown",
   "id": "a01c559e",
   "metadata": {},
   "source": [
    "## Importing Libraries\n",
    "\n",
    "First we import libraries that we need for this assignment."
   ]
  },
  {
   "cell_type": "code",
   "execution_count": 1,
   "id": "0423187e",
   "metadata": {},
   "outputs": [],
   "source": [
    "import numpy as np\n",
    "import pandas as pd\n",
    "import matplotlib.pyplot as plt\n",
    "\n",
    "# import any other libraries needed below"
   ]
  },
  {
   "cell_type": "markdown",
   "id": "2f795731",
   "metadata": {},
   "source": [
    "## Reading Data and Preprocessing\n",
    "\n",
    "In this section, we want to read data from a CSV file and then preprocess it to make it ready for the rest of the problem.\n",
    "\n",
    "First, we read the data in the cell below and extract an $m \\times n$ matrix, $X$, and an $m \\times 1$ vector, $Y$, from it, which represent our knowledge about the features of the data (`X1`, `X2`, `X3`) and the class (`Y`), respectively. Note that by $m$, we mean the number of data points and by $n$, we mean the number of features."
   ]
  },
  {
   "cell_type": "code",
   "execution_count": 2,
   "id": "410e750d",
   "metadata": {},
   "outputs": [
    {
     "name": "stdout",
     "output_type": "stream",
     "text": [
      "(10000, 3)\n",
      "(10000, 1)\n"
     ]
    }
   ],
   "source": [
    "import pandas as pd\n",
    "\n",
    "# Read the data from the CSV file\n",
    "data = pd.read_csv('./Q3/data_logistic.csv')\n",
    "\n",
    "# Extract features and labels\n",
    "X = data[['X1', 'X2', 'X3']].values\n",
    "Y = data['Y'].values.reshape(-1, 1)\n",
    "\n",
    "# Print the shapes of X and Y\n",
    "print(X.shape)\n",
    "print(Y.shape)\n"
   ]
  },
  {
   "cell_type": "markdown",
   "id": "866734e2",
   "metadata": {},
   "source": [
    "Next, we should normalize our data. For normalizing a vector $\\mathbf{x}$, a very common method is to use this formula:\n",
    "\n",
    "$$\n",
    "\\mathbf{x}_{norm} = \\dfrac{\\mathbf{x} - \\overline{\\mathbf{x}}}{\\sigma_\\mathbf{x}}\n",
    "$$\n",
    "\n",
    "Here, $\\overline{x}$ and $\\sigma_\\mathbf{x}$ denote the mean and standard deviation of vector $\\mathbf{x}$, respectively. Use this formula and store the new $X$ and $Y$ vectors in the cell below.\n",
    "\n",
    "**Question**: Briefly explain why we need to normalize our data before starting the training.\n",
    "\n",
    "**Answer**:\n",
    "Normalizing data is a crucial preprocessing step before training machine learning models for several reasons:\n",
    "\n",
    "Scale Independence: Features often have different scales. For example, one feature might range from 0 to 1, while another might range from 0 to 1000. If we don't normalize these features, the model might give undue importance to features with larger scales, leading to suboptimal performance.\n",
    "Faster Convergence: Normalizing data can help algorithms converge more quickly during training. Many optimization algorithms, such as gradient descent, work more efficiently when features are on similar scales. Normalizing the data can help prevent oscillation and slow convergence.\n",
    "Improved Numerical Stability: Normalizing data can improve the numerical stability of the optimization process. Large input values can lead to large intermediate values in computations, which may cause numerical overflow or underflow issues. Normalizing data to a similar scale helps mitigate these problems.\n",
    "Regularization: Some regularization techniques, such as L1 and L2 regularization, assume that features are on similar scales. Normalizing the data ensures that regularization penalties are applied fairly across all features."
   ]
  },
  {
   "cell_type": "code",
   "execution_count": 3,
   "id": "9e757eb0",
   "metadata": {},
   "outputs": [
    {
     "name": "stdout",
     "output_type": "stream",
     "text": [
      "(10000, 3)\n",
      "(10000, 1)\n"
     ]
    }
   ],
   "source": [
    "import numpy as np\n",
    "\n",
    "# Calculate mean and standard deviation for each feature\n",
    "X_mean = np.mean(X, axis=0)\n",
    "X_std = np.std(X, axis=0)\n",
    "\n",
    "# Normalize features\n",
    "X_normalized = (X - X_mean) / X_std\n",
    "\n",
    "# Calculate mean and standard deviation for labels\n",
    "Y_mean = np.mean(Y)\n",
    "Y_std = np.std(Y)\n",
    "\n",
    "# Normalize labels\n",
    "Y_normalized = (Y - Y_mean) / Y_std\n",
    "\n",
    "# Print the shapes of X_normalized and Y_normalized\n",
    "print(X_normalized.shape)\n",
    "print(Y_normalized.shape)\n"
   ]
  },
  {
   "cell_type": "markdown",
   "id": "5465bfa4",
   "metadata": {},
   "source": [
    "Finally, we should add a column of $1$s at the beginning of $X$ to represent the bias term. Do this in the next cell. Note that after this process, $X$ should be an $m \\times (n+1)$ matrix."
   ]
  },
  {
   "cell_type": "code",
   "execution_count": 4,
   "id": "b9a60f1f",
   "metadata": {},
   "outputs": [
    {
     "name": "stdout",
     "output_type": "stream",
     "text": [
      "(10000, 4)\n"
     ]
    }
   ],
   "source": [
    "import numpy as np\n",
    "\n",
    "# Add a column of ones to represent the bias term\n",
    "X = np.insert(X_normalized, 0, 1, axis=1)\n",
    "\n",
    "# Print the shape of X\n",
    "print(X.shape)\n"
   ]
  },
  {
   "cell_type": "markdown",
   "id": "5cdf0d78",
   "metadata": {},
   "source": [
    "## Training Model"
   ]
  },
  {
   "cell_type": "markdown",
   "id": "c8714abe",
   "metadata": {},
   "source": [
    "### Sigmoid Function\n",
    "You should begin by implementing the $\\sigma(\\mathbf{x})$ function. Recall that the logistic regression hypothesis $\\mathcal{h}()$ is defined as:\n",
    "$$\n",
    "\\mathcal{h}_{\\theta}(\\mathbf{x}) = \\mathcal{g}(\\theta^\\mathbf{T}\\mathbf{x})\n",
    "$$\n",
    "where $\\mathcal{g}()$ is the sigmoid function as:\n",
    "$$\n",
    "\\mathcal{g}(\\mathbf{z}) = \\frac{1}{1+exp^{-\\mathbf{z}}}\n",
    "$$\n",
    "The Sigmoid function has the property that $\\mathbf{g}(+\\infty)\\approx 1$ and $\\mathcal{g}(−\\infty)\\approx0$. Test your function by calling `sigmoid(z)` on different test samples. Be certain that your sigmoid function works with both vectors and matrices - for either a vector or a matrix, your function should perform the sigmoid function on every element."
   ]
  },
  {
   "cell_type": "code",
   "execution_count": 5,
   "id": "6a6b6ae4",
   "metadata": {},
   "outputs": [],
   "source": [
    "import numpy as np\n",
    "\n",
    "def sigmoid(Z):\n",
    "    '''\n",
    "    Applies the sigmoid function on every element of Z\n",
    "    Arguments:\n",
    "        Z can be a (n,) vector or (n , m) matrix\n",
    "    Returns:\n",
    "        A vector/matrix, same shape with Z, that has the sigmoid function applied elementwise\n",
    "    '''\n",
    "    return 1 / (1 + np.exp(-Z))\n"
   ]
  },
  {
   "cell_type": "markdown",
   "id": "83846074",
   "metadata": {},
   "source": [
    "### Cost Function \n",
    "Implement the functions to compute the cost function. Recall the cost function for logistic regression is a scalar value given by:\n",
    "$$\n",
    "\\mathcal{J}(\\theta) = \\sum_{i=1}^{n}[-y^{(i)}\\log{(\\mathcal{h}_\\theta(\\mathbf{x}^{(i)}))}-(1-y^{(i)})\\log{(1-\\mathcal{h}_\\theta(\\mathbf{x}^{(i)}))}] + \\frac{\\lambda}{2}||\\theta||_2^2\n",
    "$$"
   ]
  },
  {
   "cell_type": "code",
   "execution_count": 6,
   "id": "26a9bdeb",
   "metadata": {},
   "outputs": [],
   "source": [
    "def computeCost(theta, X, y, regLambda):\n",
    "    '''\n",
    "    Computes the objective function\n",
    "    Arguments:\n",
    "        theta is d-dimensional numpy vector\n",
    "        X is a n-by-d numpy matrix\n",
    "        y is an n-dimensional numpy vector\n",
    "        regLambda is the scalar regularization constant\n",
    "    Returns:\n",
    "        a scalar value of the cost  ** make certain you're not returning a 1 x 1 matrix! **\n",
    "    '''\n",
    "    m = len(y)\n",
    "    h = sigmoid(np.dot(X, theta))\n",
    "    loss = -np.mean(y * np.log(h) + (1 - y) * np.log(1 - h))\n",
    "    reg_term = regLambda / (2 * m) * np.sum(theta[1:]**2)  # Regularization term excluding bias term\n",
    "    return loss + reg_term\n"
   ]
  },
  {
   "cell_type": "markdown",
   "id": "6eaf1146",
   "metadata": {},
   "source": [
    "### Gradient of the Cost Function\n",
    "Now, we want to calculate the gradient of the cost function. The gradient of the cost function is a d-dimensional vector.\\\n",
    "We must be careful not to regularize the $\\theta_0$ parameter (corresponding to the first feature we add to each instance), and so the 0's element is given by:\n",
    "$$\n",
    "\\frac{\\partial \\mathcal{J}(\\theta)}{\\partial \\theta_0} = \\sum_{i=1}^n (\\mathcal{h}_\\theta(\\mathbf{x}^{(i)})-y^{(i)})\n",
    "$$\n",
    "\n",
    "Question: What is the answer to this problem for the $j^{th}$ element (for $j=1...d$)?\n",
    "\n",
    "Answer:\n",
    "\n",
    "\n",
    "For the $j^{th}$ element of the gradient of the cost function with respect to $\\theta$, the expression is derived from the general gradient formula for logistic regression, with the additional consideration of regularization.\n",
    "\n",
    "The general formula for the gradient of the cost function with respect to $\\theta_j$ (for $j = 1, 2, \\ldots, d$) is:\n",
    "$$\n",
    "\n",
    "\\frac{\\partial \\mathcal{J}(\\theta)}{\\partial \\theta_j} = \\frac{1}{m} \\sum_{i=1}^{m} (\\mathcal{h}_\\theta(\\mathbf{x}^{(i)}) - y^{(i)}) x_j^{(i)} + \\frac{\\lambda}{m} \\theta_j\n",
    "\n",
    "$$\n",
    "\n",
    "\n",
    "\n",
    "This equation comprises two terms:\n",
    "\n",
    "The derivative of the loss function with respect to $\\theta_j$, which represents the contribution of the $j^{th}$ feature to the error. It is computed as the average of the product of the prediction error $(\\mathcal{h}_\\theta(\\mathbf{x}^{(i)}) - y^{(i)})$ and the $j^{th}$ feature value $x_j^{(i)}$ over all training examples.\n",
    "The regularization term, which penalizes large values of $\\theta_j$. It is added to the derivative of the loss function to encourage smaller parameter values, thus preventing overfitting. This term is scaled by the regularization parameter $\\lambda$.\n",
    "However, for $j = 0$, corresponding to the bias term, the regularization is not applied, so the formula simplifies to:\n",
    "\n",
    "$$\n",
    "\n",
    "\\frac{\\partial \\mathcal{J}(\\theta)}{\\partial \\theta_0} = \\frac{1}{m} \\sum_{i=1}^{m} (\\mathcal{h}_\\theta(\\mathbf{x}^{(i)}) - y^{(i)})\n",
    "\n",
    "$$"
   ]
  },
  {
   "cell_type": "code",
   "execution_count": 7,
   "id": "35f7c2dd",
   "metadata": {},
   "outputs": [],
   "source": [
    "def computeGradient(theta, X, y, regLambda):\n",
    "    '''\n",
    "    Computes the gradient of the objective function\n",
    "    Arguments:\n",
    "        theta is d-dimensional numpy vector\n",
    "        X is a n-by-d numpy matrix\n",
    "        y is an n-dimensional numpy vector\n",
    "        regLambda is the scalar regularization constant\n",
    "    Returns:\n",
    "        the gradient, a d-dimensional vector\n",
    "    '''\n",
    "    m, n = X.shape\n",
    "    h = sigmoid(np.dot(X, theta))\n",
    "    error = h - y\n",
    "    grad = np.dot(X.T, error) / m\n",
    "    grad[1:] += (regLambda / m) * theta[1:]  # Regularization term excluding bias term\n",
    "    return grad\n"
   ]
  },
  {
   "cell_type": "markdown",
   "id": "24bc86bd",
   "metadata": {},
   "source": [
    "### Training and Prediction\n",
    "Once you have the cost and gradient functions complete, implemen tthe fit and predict methods.\\\n",
    "Your fit method should train the model via gradient descent, relying on the cost and gradient functions. This function should return two parameters. The first parameter is $\\theta$, and the second parameter is a `numpy` array that contains the loss in each iteration. This array is indicated by `loss_history` in the code.\\\n",
    "Instead of simply running gradient descent for a specific number of iterations, we will use a more sophisticated method: we will stop it after the solution hasconverged. Stop the gradient descent procedure when $\\theta$ stops changing between consecutive iterations. You can detect this convergence when:\n",
    "$$\n",
    "||\\theta_{new}-\\theta_{old}||_2 <= \\epsilon,\n",
    "$$\n",
    "for some small $\\epsilon$ (e.g, $\\epsilon=10E-4$).\\\n",
    "For readability, we’d recommend implementing this convergence test as a dedicated function `hasConverged`."
   ]
  },
  {
   "cell_type": "code",
   "execution_count": 8,
   "id": "cc0cad78",
   "metadata": {},
   "outputs": [],
   "source": [
    "def fit(X, y, regLambda=0.01, alpha=0.01, epsilon=1e-4, maxNumIters=100):\n",
    "    '''\n",
    "    Trains the model\n",
    "    Arguments:\n",
    "        X           is a n-by-d numpy matrix\n",
    "        y           is an n-dimensional numpy vector\n",
    "        maxNumIters is the maximum number of gradient descent iterations\n",
    "        regLambda   is the scalar regularization constant\n",
    "        epsilon     is the convergence rate\n",
    "        alpha       is the gradient descent learning rate\n",
    "    '''\n",
    "    m, n = X.shape\n",
    "    theta = np.zeros((n, 1))  # Initialize theta to zeros\n",
    "    loss_history = []  # List to store the loss at each iteration\n",
    "    for _ in range(maxNumIters):\n",
    "        loss = computeCost(theta, X, y, regLambda)\n",
    "        grad = computeGradient(theta, X, y, regLambda)\n",
    "        theta_new = theta - alpha * grad\n",
    "        if hasConverged(theta, theta_new, epsilon):\n",
    "            break\n",
    "        theta = theta_new\n",
    "        loss_history.append(loss)\n",
    "    return theta, loss_history\n",
    "\n",
    "def hasConverged(theta_old, theta_new, epsilon):\n",
    "    '''\n",
    "    Return if the theta converged or not\n",
    "    Arguments:\n",
    "        theta_old   is the theta calculated in previous iteration\n",
    "        theta_new   is the theta calculated in current iteration\n",
    "        epsilon     is the convergence rate\n",
    "    '''\n",
    "    return np.linalg.norm(theta_new - theta_old) <= epsilon\n"
   ]
  },
  {
   "cell_type": "markdown",
   "id": "bb648852",
   "metadata": {},
   "source": [
    "Finally, we want to evaluate our loss for this problem. Complete the cell below to calculate and print the loss of each iteration and the final theta of your model."
   ]
  },
  {
   "cell_type": "code",
   "execution_count": 10,
   "id": "252e556f",
   "metadata": {},
   "outputs": [
    {
     "name": "stdout",
     "output_type": "stream",
     "text": [
      "Iteration 1: Loss = 0.6931471805599453\n",
      "Iteration 2: Loss = 0.6844231894886041\n",
      "Iteration 3: Loss = 0.6757430885565388\n",
      "Iteration 4: Loss = 0.6671066508137952\n",
      "Iteration 5: Loss = 0.6585136456832319\n",
      "Iteration 6: Loss = 0.649963839094398\n",
      "Iteration 7: Loss = 0.641456993617721\n",
      "Iteration 8: Loss = 0.6329928685988295\n",
      "Iteration 9: Loss = 0.6245712202928538\n",
      "Iteration 10: Loss = 0.6161918019985356\n",
      "Iteration 11: Loss = 0.6078543641919976\n",
      "Iteration 12: Loss = 0.599558654660019\n",
      "Iteration 13: Loss = 0.5913044186326691\n",
      "Iteration 14: Loss = 0.5830913989151598\n",
      "Iteration 15: Loss = 0.5749193360187806\n",
      "Iteration 16: Loss = 0.5667879682907841\n",
      "Iteration 17: Loss = 0.558697032043097\n",
      "Iteration 18: Loss = 0.55064626167974\n",
      "Iteration 19: Loss = 0.5426353898228389\n",
      "Iteration 20: Loss = 0.5346641474371224\n",
      "Iteration 21: Loss = 0.5267322639528039\n",
      "Iteration 22: Loss = 0.5188394673867502\n",
      "Iteration 23: Loss = 0.51098548446185\n",
      "Iteration 24: Loss = 0.5031700407244957\n",
      "Iteration 25: Loss = 0.4953928606601025\n",
      "Iteration 26: Loss = 0.4876536678065921\n",
      "Iteration 27: Loss = 0.47995218486577423\n",
      "Iteration 28: Loss = 0.47228813381256723\n",
      "Iteration 29: Loss = 0.4646612360020009\n",
      "Iteration 30: Loss = 0.45707121227395453\n",
      "Iteration 31: Loss = 0.4495177830555849\n",
      "Iteration 32: Loss = 0.44200066846140657\n",
      "Iteration 33: Loss = 0.43451958839099075\n",
      "Iteration 34: Loss = 0.427074262624255\n",
      "Iteration 35: Loss = 0.4196644109143209\n",
      "Iteration 36: Loss = 0.41228975307791954\n",
      "Iteration 37: Loss = 0.4049500090833329\n",
      "Iteration 38: Loss = 0.3976448991358594\n",
      "Iteration 39: Loss = 0.39037414376079915\n",
      "Iteration 40: Loss = 0.38313746388395936\n",
      "Iteration 41: Loss = 0.37593458090967763\n",
      "Iteration 42: Loss = 0.36876521679637353\n",
      "Iteration 43: Loss = 0.3616290941296374\n",
      "Iteration 44: Loss = 0.354525936192866\n",
      "Iteration 45: Loss = 0.3474554670354655\n",
      "Iteration 46: Loss = 0.3404174115386369\n",
      "Iteration 47: Loss = 0.3334114954787685\n",
      "Iteration 48: Loss = 0.32643744558845667\n",
      "Iteration 49: Loss = 0.3194949896151839\n",
      "Iteration 50: Loss = 0.3125838563776825\n",
      "Iteration 51: Loss = 0.305703775820013\n",
      "Iteration 52: Loss = 0.29885447906339274\n",
      "Iteration 53: Loss = 0.29203569845580696\n",
      "Iteration 54: Loss = 0.28524716761943936\n",
      "Iteration 55: Loss = 0.27848862149595977\n",
      "Iteration 56: Loss = 0.2717597963897073\n",
      "Iteration 57: Loss = 0.2650604300088087\n",
      "Iteration 58: Loss = 0.2583902615042738\n",
      "Iteration 59: Loss = 0.25174903150710837\n",
      "Iteration 60: Loss = 0.2451364821634885\n",
      "Iteration 61: Loss = 0.238552357168038\n",
      "Iteration 62: Loss = 0.2319964017952546\n",
      "Iteration 63: Loss = 0.22546836292912648\n",
      "Iteration 64: Loss = 0.21896798909098636\n",
      "Iteration 65: Loss = 0.21249503046564538\n",
      "Iteration 66: Loss = 0.20604923892585275\n",
      "Iteration 67: Loss = 0.19963036805512607\n",
      "Iteration 68: Loss = 0.19323817316899652\n",
      "Iteration 69: Loss = 0.18687241133471394\n",
      "Iteration 70: Loss = 0.18053284138945555\n",
      "Iteration 71: Loss = 0.17421922395708425\n",
      "Iteration 72: Loss = 0.16793132146349793\n",
      "Iteration 73: Loss = 0.16166889815061553\n",
      "Iteration 74: Loss = 0.1554317200890413\n",
      "Iteration 75: Loss = 0.14921955518945113\n",
      "Iteration 76: Loss = 0.1430321732127417\n",
      "Iteration 77: Loss = 0.1368693457789859\n",
      "Iteration 78: Loss = 0.1307308463752328\n",
      "Iteration 79: Loss = 0.12461645036219553\n",
      "Iteration 80: Loss = 0.1185259349798636\n",
      "Iteration 81: Loss = 0.11245907935208176\n",
      "Iteration 82: Loss = 0.10641566449013065\n",
      "Iteration 83: Loss = 0.10039547329534926\n",
      "Iteration 84: Loss = 0.09439829056083424\n",
      "Iteration 85: Loss = 0.08842390297225328\n",
      "Iteration 86: Loss = 0.08247209910780691\n",
      "Iteration 87: Loss = 0.07654266943737383\n",
      "Iteration 88: Loss = 0.07063540632087306\n",
      "Iteration 89: Loss = 0.06475010400587608\n",
      "Iteration 90: Loss = 0.05888655862450074\n",
      "Iteration 91: Loss = 0.05304456818961851\n",
      "Iteration 92: Loss = 0.04722393259040537\n",
      "Iteration 93: Loss = 0.041424453587266076\n",
      "Iteration 94: Loss = 0.03564593480616062\n",
      "Iteration 95: Loss = 0.029888181732361095\n",
      "Iteration 96: Loss = 0.02415100170366621\n",
      "Iteration 97: Loss = 0.018434203903099775\n",
      "Iteration 98: Loss = 0.012737599351119257\n",
      "Iteration 99: Loss = 0.007061000897359083\n",
      "Iteration 100: Loss = 0.001404223211933021\n",
      "Final theta:\n",
      "[[-0.44628617]\n",
      " [-0.46412764]\n",
      " [ 0.50530387]\n",
      " [ 0.15921832]]\n"
     ]
    }
   ],
   "source": [
    "theta, loss_history = fit(X, Y_normalized)  # calculating theta and loss of each iteration\n",
    "\n",
    "# Print loss for each iteration\n",
    "for i, loss in enumerate(loss_history):\n",
    "    print(f\"Iteration {i + 1}: Loss = {loss}\")\n",
    "\n",
    "# Print final theta\n",
    "print(\"Final theta:\")\n",
    "print(theta)\n"
   ]
  },
  {
   "cell_type": "markdown",
   "id": "f4b3fab6",
   "metadata": {},
   "source": [
    "### Testing Your Implementation\n",
    "To test your logistic regression implementation, first you should use `train_test_split` function to split dataset into three parts:\n",
    "\n",
    "- 70% for the training set\n",
    "- 20% for the validation set\n",
    "- 10% for the test set\n",
    "\n",
    "Do this in the cell below."
   ]
  },
  {
   "cell_type": "code",
   "execution_count": 12,
   "id": "4518fe11",
   "metadata": {},
   "outputs": [
    {
     "name": "stdout",
     "output_type": "stream",
     "text": [
      "Training set shapes: (7002, 4) (7002, 1)\n",
      "Validation set shapes: (1998, 4) (1998, 1)\n",
      "Test set shapes: (1000, 4) (1000, 1)\n"
     ]
    }
   ],
   "source": [
    "from sklearn.model_selection import train_test_split\n",
    "\n",
    "# Split dataset into training, validation, and test sets\n",
    "X_train_val, X_test, Y_train_val, Y_test = train_test_split(X, Y_normalized, test_size=0.1, random_state=42)\n",
    "X_train, X_val, Y_train, Y_val = train_test_split(X_train_val, Y_train_val, test_size=0.222, random_state=42)  # 20% validation, 80% of 90% is 72%\n",
    "\n",
    "# Print the shapes of the datasets\n",
    "print(\"Training set shapes:\", X_train.shape, Y_train.shape)\n",
    "print(\"Validation set shapes:\", X_val.shape, Y_val.shape)\n",
    "print(\"Test set shapes:\", X_test.shape, Y_test.shape)\n"
   ]
  },
  {
   "cell_type": "markdown",
   "id": "f9fbe5d7",
   "metadata": {},
   "source": [
    "Then, you should complete `predict` function to find the weight vector and the loss on the test data."
   ]
  },
  {
   "cell_type": "code",
   "execution_count": 13,
   "id": "95c2fe20",
   "metadata": {},
   "outputs": [],
   "source": [
    "def predict(X, theta):\n",
    "    '''\n",
    "    Use the model to predict values for each instance in X\n",
    "    Arguments:\n",
    "        theta is d-dimensional numpy vector\n",
    "        X     is a n-by-d numpy matrix\n",
    "    Returns:\n",
    "        an n-dimensional numpy vector of the predictions, the output should be binary (use h_theta > .5)\n",
    "    '''\n",
    "    h_theta = sigmoid(np.dot(X, theta))\n",
    "    Y = (h_theta > 0.5).astype(int)\n",
    "    return Y\n"
   ]
  },
  {
   "cell_type": "markdown",
   "id": "246d1c02",
   "metadata": {},
   "source": [
    "Now, run the `fit` and `predict` function for different values of the learning rate and regularization constant. Plot the `loss_history` of these different values for train and test data both in the same figure.\n",
    "\n",
    "**Question**: Discuss the effect of the learning rate and regularization constant and find the best values of these parameters.\n",
    "\n",
    "**Answer**: \n",
    "\n",
    "Effect of Learning Rate:\n",
    "Too Small: If the learning rate is too small, the model may take a long time to converge, or it may get stuck in local minima.\n",
    "Too Large: On the other hand, if the learning rate is too large, the model may overshoot the minimum and fail to converge or diverge.\n",
    "Best Value: The best learning rate is often found through experimentation. It should be large enough to converge quickly but small enough to avoid oscillations or divergence.\n",
    "\n",
    "\n",
    "Effect of Regularization Constant:\n",
    "Too Small (Weak Regularization): If the regularization constant is too small, the model may overfit the training data, resulting in poor generalization to unseen data.\n",
    "Too Large (Strong Regularization): Conversely, if the regularization constant is too large, the model may underfit the training data, leading to high bias and low variance but potentially sacrificing too much predictive power.\n",
    "Best Value: Similar to the learning rate, the best regularization constant is often found through experimentation. It should strike a balance between preventing overfitting and preserving model complexity."
   ]
  },
  {
   "cell_type": "code",
   "execution_count": 14,
   "id": "cd2af382",
   "metadata": {},
   "outputs": [
    {
     "data": {
      "image/png": "[encoded data removed]",
      "text/plain": [
       "<Figure size 720x432 with 1 Axes>"
      ]
     },
     "metadata": {
      "needs_background": "light"
     },
     "output_type": "display_data"
    }
   ],
   "source": [
    "import matplotlib.pyplot as plt\n",
    "\n",
    "# Define ranges for learning rate and regularization constant\n",
    "learning_rates = [0.001, 0.01, 0.1]\n",
    "reg_lambdas = [0.001, 0.01, 0.1]\n",
    "\n",
    "# Initialize lists to store loss histories\n",
    "train_losses = []\n",
    "test_losses = []\n",
    "\n",
    "# Iterate over all combinations of learning rates and regularization constants\n",
    "for alpha in learning_rates:\n",
    "    for regLambda in reg_lambdas:\n",
    "        # Train the model using the fit function\n",
    "        theta, loss_history = fit(X_train, Y_train, regLambda=regLambda, alpha=alpha)\n",
    "        \n",
    "        # Compute loss on train and test data\n",
    "        train_loss = computeCost(theta, X_train, Y_train, regLambda)\n",
    "        test_loss = computeCost(theta, X_test, Y_test, regLambda)\n",
    "        \n",
    "        # Append loss histories\n",
    "        train_losses.append(loss_history)\n",
    "        test_losses.append(test_loss)\n",
    "\n",
    "# Plot loss histories\n",
    "plt.figure(figsize=(10, 6))\n",
    "for i, (alpha, regLambda) in enumerate(zip(learning_rates, reg_lambdas)):\n",
    "    plt.plot(train_losses[i], label=f\"Train (alpha={alpha}, regLambda={regLambda})\")\n",
    "    plt.plot(test_losses[i], label=f\"Test (alpha={alpha}, regLambda={regLambda})\", linestyle='--')\n",
    "\n",
    "plt.xlabel('Iteration')\n",
    "plt.ylabel('Loss')\n",
    "plt.title('Loss History for Different Learning Rates and Regularization Constants')\n",
    "plt.legend()\n",
    "plt.grid(True)\n",
    "plt.show()\n"
   ]
  },
  {
   "cell_type": "markdown",
   "id": "11babf15",
   "metadata": {},
   "source": [
    "## Naive Bayes\n",
    "\n",
    "In this part, you will use the `GaussianNB` classifier to classify the data. You should not change the default parameters of this classifier. First, train the classifier on the training set and then find the accuracy of it on the test set.\n",
    "\n",
    "**Question**: What is the accuracy of this method on test set?\n",
    "\n",
    "**Answer**: 0.957"
   ]
  },
  {
   "cell_type": "code",
   "execution_count": 17,
   "id": "1ef450fb",
   "metadata": {},
   "outputs": [
    {
     "name": "stdout",
     "output_type": "stream",
     "text": [
      "Accuracy of Gaussian Naive Bayes on test set: 0.957\n"
     ]
    },
    {
     "name": "stderr",
     "output_type": "stream",
     "text": [
      "c:\\Users\\Digi Max\\anaconda3\\lib\\site-packages\\sklearn\\utils\\validation.py:63: DataConversionWarning: A column-vector y was passed when a 1d array was expected. Please change the shape of y to (n_samples, ), for example using ravel().\n",
      "  return f(*args, **kwargs)\n"
     ]
    }
   ],
   "source": [
    "# Binarize the labels (convert to 0 or 1)\n",
    "Y_train_binary = (Y_train > 0).astype(int)\n",
    "Y_test_binary = (Y_test > 0).astype(int)\n",
    "\n",
    "# Train the Gaussian Naive Bayes classifier\n",
    "nb_classifier = GaussianNB()\n",
    "nb_classifier.fit(X_train, Y_train_binary)\n",
    "\n",
    "# Predict labels for the test set\n",
    "Y_pred = nb_classifier.predict(X_test)\n",
    "\n",
    "# Calculate accuracy\n",
    "accuracy = accuracy_score(Y_test_binary, Y_pred)\n",
    "print(\"Accuracy of Gaussian Naive Bayes on test set:\", accuracy)\n"
   ]
  },
  {
   "cell_type": "markdown",
   "id": "b371657d",
   "metadata": {},
   "source": [
    "## LDA (Linear Discriminant Analysis)\n",
    "\n",
    "In this part, you will use the `LinearDiscriminantAnalysis` classifier to classify the data. You should not change the default parameters of this classifier. First, train the classifier on the training set and then find the accuracy of it on the test set.\n",
    "\n",
    "**Question**: What is the accuracy of this method on test set?\n",
    "\n",
    "**Answer**: 0.987"
   ]
  },
  {
   "cell_type": "code",
   "execution_count": 19,
   "id": "92cc8743",
   "metadata": {},
   "outputs": [
    {
     "name": "stdout",
     "output_type": "stream",
     "text": [
      "Accuracy of Linear Discriminant Analysis on test set: 0.987\n"
     ]
    },
    {
     "name": "stderr",
     "output_type": "stream",
     "text": [
      "c:\\Users\\Digi Max\\anaconda3\\lib\\site-packages\\sklearn\\utils\\validation.py:63: DataConversionWarning: A column-vector y was passed when a 1d array was expected. Please change the shape of y to (n_samples, ), for example using ravel().\n",
      "  return f(*args, **kwargs)\n"
     ]
    }
   ],
   "source": [
    "# Binarize the labels (convert to 0 or 1)\n",
    "Y_train_binary = (Y_train > 0).astype(int)\n",
    "Y_test_binary = (Y_test > 0).astype(int)\n",
    "\n",
    "# Train the Linear Discriminant Analysis (LDA) classifier\n",
    "lda_classifier = LinearDiscriminantAnalysis()\n",
    "lda_classifier.fit(X_train, Y_train_binary)\n",
    "\n",
    "# Predict labels for the test set\n",
    "Y_pred = lda_classifier.predict(X_test)\n",
    "\n",
    "# Calculate accuracy\n",
    "accuracy = accuracy_score(Y_test_binary, Y_pred)\n",
    "print(\"Accuracy of Linear Discriminant Analysis on test set:\", accuracy)\n"
   ]
  },
  {
   "cell_type": "markdown",
   "id": "47736bdf",
   "metadata": {},
   "source": [
    "## Conclution\n",
    "\n",
    "**Question**: What is the best method for classifying this dataset? What is the best accuracy on the test set?\n",
    "\n",
    "**Answer**: Since LDA had the best performance on this dataset so LDA is the best method for classifying this dataset.\n"
   ]
  }
 ],
 "metadata": {
  "kernelspec": {
   "display_name": "Python 3 (ipykernel)",
   "language": "python",
   "name": "python3"
  },
  "language_info": {
   "codemirror_mode": {
    "name": "ipython",
    "version": 3
   },
   "file_extension": ".py",
   "mimetype": "text/x-python",
   "name": "python",
   "nbconvert_exporter": "python",
   "pygments_lexer": "ipython3",
   "version": "3.9.7"
  }
 },
 "nbformat": 4,
 "nbformat_minor": 5
}
